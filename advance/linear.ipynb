{
 "cells": [
  {
   "cell_type": "code",
   "execution_count": 87,
   "metadata": {},
   "outputs": [],
   "source": [
    "import pandas as pd\n",
    "import matplotlib.pyplot as plt\n",
    "import numpy as np\n",
    "import math\n",
    "from sklearn import linear_model\n",
    "from sklearn.metrics import r2_score\n"
   ]
  },
  {
   "cell_type": "code",
   "execution_count": 88,
   "metadata": {},
   "outputs": [],
   "source": [
    "df = pd.read_csv(\"../BankChurners.csv\")"
   ]
  },
  {
   "cell_type": "code",
   "execution_count": 89,
   "metadata": {},
   "outputs": [],
   "source": [
    "def estimate_coef(x, y):\n",
    "    # number of observations/points\n",
    "    n = np.size(x)\n",
    " \n",
    "    # mean of x and y vector\n",
    "    m_x = np.mean(x)\n",
    "    m_y = np.mean(y)\n",
    " \n",
    "    # calculating cross-deviation and deviation about x\n",
    "    SS_xy = np.sum(y*x) - n*m_y*m_x\n",
    "    SS_xx = np.sum(x*x) - n*m_x*m_x\n",
    " \n",
    "    # calculating regression coefficients\n",
    "    b_1 = SS_xy / SS_xx\n",
    "    b_0 = m_y - b_1*m_x\n",
    " \n",
    "    return (b_0, b_1)"
   ]
  },
  {
   "cell_type": "code",
   "execution_count": 90,
   "metadata": {},
   "outputs": [],
   "source": [
    "def plot_regression_line(x, y, b):\n",
    "    # plotting the actual points as scatter plot\n",
    "    plt.scatter(x, y, color = \"b\",\n",
    "               marker = \"o\", s = 30)\n",
    " \n",
    "    # predicted response vector\n",
    "    y_pred = b[0] + b[1]*x\n",
    " \n",
    "    # plotting the regression line\n",
    "    plt.plot(x, y_pred, color = \"r\")\n",
    " \n",
    "    # putting labels\n",
    "    plt.xlabel('Total_Trans_Ct')\n",
    "    plt.ylabel('Total_Trans_Amt')\n",
    " \n",
    "    # function to show plot\n",
    "    plt.show()"
   ]
  },
  {
   "cell_type": "code",
   "execution_count": 106,
   "metadata": {},
   "outputs": [
    {
     "name": "stdout",
     "output_type": "stream",
     "text": [
      "Estimated coefficients:\n",
      "b_0 = -3172.8998028135866            \n",
      "b_1 = 116.82298196030168\n"
     ]
    },
    {
     "data": {
      "image/png": "[encoded data removed]",
      "text/plain": [
       "<Figure size 432x288 with 1 Axes>"
      ]
     },
     "metadata": {
      "needs_background": "light"
     },
     "output_type": "display_data"
    }
   ],
   "source": [
    "# estimating coefficients\n",
    "x = df['Total_Trans_Ct']\n",
    "# y = df['Total_Trans_Ct']\n",
    "y = df['Total_Trans_Amt']\n",
    "b = estimate_coef(x, y)\n",
    "\n",
    "print(\"Estimated coefficients:\\nb_0 = {}  \\\n",
    "          \\nb_1 = {}\".format(b[0], b[1]))\n",
    "\n",
    "y_pred = b[0] + b[1]*x\n",
    "# print(y_pred)\n",
    "\n",
    "# plotting regression line\n",
    "plot_regression_line(x, y, b)\n"
   ]
  },
  {
   "cell_type": "markdown",
   "metadata": {},
   "source": [
    "R^2"
   ]
  },
  {
   "cell_type": "code",
   "execution_count": 97,
   "metadata": {},
   "outputs": [
    {
     "name": "stdout",
     "output_type": "stream",
     "text": [
      "0.6515589808047227\n"
     ]
    }
   ],
   "source": [
    "x_bar = x.sum() / len(x)\n",
    "y_bar = y_pred.sum() / len(x)\n",
    "n = len(x)\n",
    "\n",
    "sumX = x.sum()\n",
    "sumY = y_pred.sum()\n",
    "sumXY = (x * y_pred).sum()\n",
    "\n",
    "SSxy = (x * y).sum() - ((x.sum() * y.sum()) / len(x))\n",
    "SSyy = (y * y).sum() - ((y.sum() * y.sum()) / len(x))\n",
    "SSxx = (x * x).sum() - ((x.sum() * x.sum()) / len(x))\n",
    "# SSxy = (x * y_pred).sum() - (n * x_bar * y_bar)\n",
    "# SSyy = (y_pred * y_pred).sum() - (n * y_bar * y_bar)\n",
    "# SSxx = (x * x).sum() - (n * x_bar * x_bar)\n",
    "b = SSxy / SSxx\n",
    "\n",
    "print(b * SSxy / SSyy)\n"
   ]
  },
  {
   "cell_type": "code",
   "execution_count": 93,
   "metadata": {},
   "outputs": [
    {
     "name": "stdout",
     "output_type": "stream",
     "text": [
      "r2 socre is 0.6515589808047233\n"
     ]
    }
   ],
   "source": [
    "# regr = linear_model.LinearRegression()\n",
    "score = r2_score(y,y_pred)\n",
    "print('r2 socre is',score)"
   ]
  },
  {
   "cell_type": "code",
   "execution_count": 94,
   "metadata": {},
   "outputs": [
    {
     "name": "stdout",
     "output_type": "stream",
     "text": [
      "0.6515589808047229\n"
     ]
    }
   ],
   "source": [
    "corr_matrix = np.corrcoef(y, y_pred)\n",
    "corr = corr_matrix[0, 1]\n",
    "R_sq = corr**2\n",
    "\n",
    "print(R_sq)\n"
   ]
  },
  {
   "cell_type": "markdown",
   "metadata": {},
   "source": [
    "Outline"
   ]
  },
  {
   "cell_type": "code",
   "execution_count": 108,
   "metadata": {},
   "outputs": [
    {
     "name": "stderr",
     "output_type": "stream",
     "text": [
      "/var/folders/9y/rqqys4kj4mz3ffxmf29_lf240000gn/T/ipykernel_51658/2891365405.py:11: UserWarning: Boolean Series key will be reindexed to match DataFrame index.\n",
      "  df_clean = df_clean[(df['Customer_Age'] <= ub(df['Customer_Age'])) & (\n",
      "/var/folders/9y/rqqys4kj4mz3ffxmf29_lf240000gn/T/ipykernel_51658/2891365405.py:13: UserWarning: Boolean Series key will be reindexed to match DataFrame index.\n",
      "  df_clean = df_clean[(df['Total_Trans_Ct'] <= ub(df['Total_Trans_Ct'])) & (\n"
     ]
    }
   ],
   "source": [
    "def fs(df):\n",
    "    return df.quantile(q=0.75)-df.quantile(q=0.25)\n",
    "def ub(df):\n",
    "    return df.quantile(q=0.5)+(fs(df)*1.5)\n",
    "def lb(df):\n",
    "    return df.quantile(q=0.5)-(fs(df)*1.5)\n",
    "\n",
    "\n",
    "df_clean = df[(df['Total_Trans_Amt'] <= ub(df['Total_Trans_Amt']))\n",
    "              & (df['Total_Trans_Amt'] >= lb(df['Total_Trans_Amt']))]\n",
    "df_clean = df_clean[(df['Customer_Age'] <= ub(df['Customer_Age'])) & (\n",
    "    df['Customer_Age'] >= lb(df['Customer_Age']))]\n",
    "df_clean = df_clean[(df['Total_Trans_Ct'] <= ub(df['Total_Trans_Ct'])) & (\n",
    "    df['Total_Trans_Ct'] >= lb(df['Total_Trans_Ct']))]\n"
   ]
  },
  {
   "cell_type": "code",
   "execution_count": null,
   "metadata": {},
   "outputs": [],
   "source": []
  },
  {
   "cell_type": "code",
   "execution_count": 111,
   "metadata": {},
   "outputs": [
    {
     "name": "stdout",
     "output_type": "stream",
     "text": [
      "Estimated coefficients:\n",
      "b_0 = -473.2668620999061            \n",
      "b_1 = 63.638090033724524\n"
     ]
    },
    {
     "data": {
      "image/png": "[encoded data removed]",
      "text/plain": [
       "<Figure size 432x288 with 1 Axes>"
      ]
     },
     "metadata": {
      "needs_background": "light"
     },
     "output_type": "display_data"
    }
   ],
   "source": [
    "x_out = df_clean['Total_Trans_Ct']\n",
    "# y = df['Total_Trans_Ct']\n",
    "y_out = df_clean['Total_Trans_Amt']\n",
    "b = estimate_coef(x_out, y_out)\n",
    "\n",
    "print(\"Estimated coefficients:\\nb_0 = {}  \\\n",
    "          \\nb_1 = {}\".format(b[0], b[1]))\n",
    "\n",
    "y_out_pred = b[0] + b[1]*x_out\n",
    "# print(y_pred)\n",
    "\n",
    "# plotting regression line\n",
    "plot_regression_line(x_out, y_out, b)\n"
   ]
  },
  {
   "cell_type": "code",
   "execution_count": 112,
   "metadata": {},
   "outputs": [
    {
     "name": "stdout",
     "output_type": "stream",
     "text": [
      "r2 socre is 0.72326062245809\n"
     ]
    }
   ],
   "source": [
    "score = r2_score(y_out,y_out_pred)\n",
    "print('r2 socre is',score)"
   ]
  }
 ],
 "metadata": {
  "interpreter": {
   "hash": "31f2aee4e71d21fbe5cf8b01ff0e069b9275f58929596ceb00d14d90e3e16cd6"
  },
  "kernelspec": {
   "display_name": "Python 3.8.9 64-bit",
   "language": "python",
   "name": "python3"
  },
  "language_info": {
   "codemirror_mode": {
    "name": "ipython",
    "version": 3
   },
   "file_extension": ".py",
   "mimetype": "text/x-python",
   "name": "python",
   "nbconvert_exporter": "python",
   "pygments_lexer": "ipython3",
   "version": "3.8.9"
  },
  "orig_nbformat": 4
 },
 "nbformat": 4,
 "nbformat_minor": 2
}
