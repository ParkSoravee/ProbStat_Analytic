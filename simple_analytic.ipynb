{
 "cells": [
  {
   "cell_type": "code",
   "execution_count": null,
   "metadata": {},
   "outputs": [],
   "source": [
    "import pandas as pd\n",
    "import matplotlib.pyplot as plt\n",
    "import numpy as np"
   ]
  },
  {
   "cell_type": "markdown",
   "metadata": {},
   "source": [
    "# Import data"
   ]
  },
  {
   "cell_type": "code",
   "execution_count": null,
   "metadata": {},
   "outputs": [],
   "source": [
    "df = pd.read_csv(\"BankChurners.csv\")"
   ]
  },
  {
   "cell_type": "markdown",
   "metadata": {},
   "source": [
    "# Basic statics"
   ]
  },
  {
   "cell_type": "markdown",
   "metadata": {},
   "source": [
    "## Customer_Age"
   ]
  },
  {
   "cell_type": "code",
   "execution_count": 5,
   "metadata": {},
   "outputs": [
    {
     "name": "stdout",
     "output_type": "stream",
     "text": [
      "count    10127.000000\n",
      "mean        46.325960\n",
      "std          8.016814\n",
      "min         26.000000\n",
      "25%         41.000000\n",
      "50%         46.000000\n",
      "75%         52.000000\n",
      "max         73.000000\n",
      "Name: Customer_Age, dtype: float64\n",
      "range = 47\n",
      "mode = 44\n",
      "varience = 64.26930723247501\n"
     ]
    }
   ],
   "source": [
    "print(df['Customer_Age'].describe())\n",
    "print(\"range =\", df['Customer_Age'].max() - df['Customer_Age'].min())\n",
    "print(\"mode =\", df['Customer_Age'].mode()[0])\n",
    "print(\"varience =\", df['Customer_Age'].std()**2)"
   ]
  },
  {
   "cell_type": "markdown",
   "metadata": {},
   "source": [
    "## Total_Trans_Amt"
   ]
  },
  {
   "cell_type": "code",
   "execution_count": null,
   "metadata": {},
   "outputs": [],
   "source": [
    "print(df['Total_Trans_Amt'].describe())\n",
    "print(\"range =\", df['Total_Trans_Amt'].max() - df['Total_Trans_Amt'].min())\n",
    "print(\"mode =\", df['Total_Trans_Amt'].mode()[0])\n",
    "print(\"varience =\", df['Total_Trans_Amt'].std()**2)"
   ]
  },
  {
   "cell_type": "markdown",
   "metadata": {},
   "source": [
    "## Total_Trans_Ct"
   ]
  },
  {
   "cell_type": "code",
   "execution_count": null,
   "metadata": {},
   "outputs": [],
   "source": [
    "print(df['Total_Trans_Ct'].describe())\n",
    "print(\"range =\", df['Total_Trans_Ct'].max() - df['Total_Trans_Ct'].min())\n",
    "print(\"mode =\", df['Total_Trans_Ct'].mode()[0])\n",
    "print(\"varience =\", df['Total_Trans_Ct'].std()**2)"
   ]
  },
  {
   "cell_type": "markdown",
   "metadata": {},
   "source": [
    "# Histogram"
   ]
  },
  {
   "cell_type": "code",
   "execution_count": null,
   "metadata": {},
   "outputs": [],
   "source": [
    "plot = plt.hist(df[['Customer_Age']], edgecolor = 'blue', bins=48)\n",
    "plt.xlabel('Customer_Age (Year old)')\n",
    "plt.ylabel('Count')"
   ]
  },
  {
   "cell_type": "code",
   "execution_count": null,
   "metadata": {},
   "outputs": [],
   "source": [
    "plot = plt.hist(df[['Total_Trans_Amt']], bins=500)\n",
    "plt.xlabel('Total_Trans_Amt (USD)')\n",
    "plt.ylabel('Count')\n"
   ]
  },
  {
   "cell_type": "code",
   "execution_count": null,
   "metadata": {},
   "outputs": [],
   "source": [
    "plt.hist(df['Total_Trans_Ct'], edgecolor = 'blue', bins=130)\n",
    "plt.xlabel('Total_Trans_Ct (Count)')\n",
    "plt.ylabel('Count')"
   ]
  },
  {
   "cell_type": "markdown",
   "metadata": {},
   "source": [
    "# Scatter Plot"
   ]
  },
  {
   "cell_type": "markdown",
   "metadata": {},
   "source": [
    "ตัวแปรต้น x-axis Total Transaction Count\n",
    "ตัวแปรตาม y-axis Customer Age"
   ]
  },
  {
   "cell_type": "code",
   "execution_count": null,
   "metadata": {},
   "outputs": [],
   "source": [
    "plt.scatter(df_clean[['Total_Trans_Ct']],df_clean[['Customer_Age']])\n",
    "plt.xlabel('Total_Trans_Ct')\n",
    "plt.ylabel('Customer_Age')"
   ]
  },
  {
   "cell_type": "markdown",
   "metadata": {},
   "source": [
    "ตัวแปรต้น x-axis Total Transaction Amount\n",
    "ตัวแปรตาม y-axis Customer Age"
   ]
  },
  {
   "cell_type": "code",
   "execution_count": null,
   "metadata": {},
   "outputs": [],
   "source": [
    "plt.scatter(df_clean[['Total_Trans_Amt']],df_clean[['Customer_Age']])\n",
    "plt.xlabel('Total_Trans_Amt')\n",
    "plt.ylabel('Customer_Age')"
   ]
  },
  {
   "cell_type": "markdown",
   "metadata": {},
   "source": [
    "ตัวแปรต้น x-axis Total Transaction Count\n",
    "ตัวแปรตาม y-axis Total Transaction Amount"
   ]
  },
  {
   "cell_type": "code",
   "execution_count": null,
   "metadata": {},
   "outputs": [],
   "source": [
    "plt.scatter(df_clean[['Total_Trans_Ct']],df_clean[['Total_Trans_Amt']])\n",
    "plt.xlabel('Total_Trans_Ct')\n",
    "plt.ylabel('Total_Trans_Amt')"
   ]
  },
  {
   "cell_type": "markdown",
   "metadata": {},
   "source": [
    "# Box Plot"
   ]
  },
  {
   "cell_type": "code",
   "execution_count": null,
   "metadata": {},
   "outputs": [],
   "source": [
    "df.boxplot('Customer_Age').set(ylabel='Year old')"
   ]
  },
  {
   "cell_type": "code",
   "execution_count": null,
   "metadata": {},
   "outputs": [],
   "source": [
    "df.boxplot('Total_Trans_Amt').set(ylabel='Amount(USD)')"
   ]
  },
  {
   "cell_type": "code",
   "execution_count": null,
   "metadata": {},
   "outputs": [],
   "source": [
    "df.boxplot('Total_Trans_Ct').set(ylabel='Count')"
   ]
  },
  {
   "cell_type": "markdown",
   "metadata": {},
   "source": [
    "## Clean Outliner"
   ]
  },
  {
   "cell_type": "code",
   "execution_count": null,
   "metadata": {},
   "outputs": [],
   "source": [
    "def fs(df):\n",
    "    return df.quantile(q=0.75)-df.quantile(q=0.25)\n",
    "def ub(df):\n",
    "    return df.quantile(q=0.5)+(fs(df)*1.5)\n",
    "def lb(df):\n",
    "    return df.quantile(q=0.5)-(fs(df)*1.5)"
   ]
  },
  {
   "cell_type": "code",
   "execution_count": null,
   "metadata": {},
   "outputs": [],
   "source": [
    "df_clean = df[(df['Total_Trans_Amt'] <=  ub(df['Total_Trans_Amt'])) & (df['Total_Trans_Amt'] >= lb(df['Total_Trans_Amt']))]\n",
    "df_clean = df_clean[(df['Customer_Age'] <= ub(df['Customer_Age'])) & (df['Customer_Age'] >= lb(df['Customer_Age']))]\n",
    "df_clean = df_clean[(df['Total_Trans_Ct'] <=  ub(df['Total_Trans_Ct'])) & (df['Total_Trans_Ct'] >= lb(df['Total_Trans_Ct']))]"
   ]
  },
  {
   "cell_type": "code",
   "execution_count": null,
   "metadata": {},
   "outputs": [],
   "source": [
    "df_clean.boxplot('Customer_Age').set(ylabel='Year old')"
   ]
  },
  {
   "cell_type": "code",
   "execution_count": null,
   "metadata": {},
   "outputs": [],
   "source": [
    "df_clean.boxplot('Total_Trans_Amt').set(ylabel='Amount(USD)')"
   ]
  },
  {
   "cell_type": "code",
   "execution_count": null,
   "metadata": {},
   "outputs": [],
   "source": [
    "df_clean.boxplot('Total_Trans_Ct').set(ylabel='Count')"
   ]
  },
  {
   "cell_type": "markdown",
   "metadata": {},
   "source": [
    "# Probability Density Function (Continuous)"
   ]
  },
  {
   "cell_type": "code",
   "execution_count": null,
   "metadata": {},
   "outputs": [],
   "source": [
    "df_clean['Total_Trans_Amt'].plot.kde(title='Total_Trans_Amt')\n",
    "plt.ylabel('Probability')\n",
    "plt.xlabel('Total_Trans_Amt')"
   ]
  },
  {
   "cell_type": "markdown",
   "metadata": {},
   "source": [
    "# Probability Mass Function (Discrete)"
   ]
  },
  {
   "cell_type": "code",
   "execution_count": null,
   "metadata": {},
   "outputs": [],
   "source": [
    "plt.hist(df_clean['Customer_Age'], density=True, edgecolor = 'blue', bins=33)\n",
    "plt.ylabel('Probability')\n",
    "plt.xlabel('Customer_Age (Year old)')"
   ]
  },
  {
   "cell_type": "code",
   "execution_count": null,
   "metadata": {},
   "outputs": [],
   "source": [
    "plt.hist(df_clean['Total_Trans_Ct'], density=True,edgecolor = 'blue', bins=94)\n",
    "plt.ylabel('Probability')\n",
    "plt.xlabel('Total_Trans_Ct (Count)')"
   ]
  },
  {
   "cell_type": "markdown",
   "metadata": {},
   "source": [
    "# Cumulative Distribution Function"
   ]
  },
  {
   "cell_type": "markdown",
   "metadata": {},
   "source": [
    "## Discrete"
   ]
  },
  {
   "cell_type": "code",
   "execution_count": null,
   "metadata": {},
   "outputs": [],
   "source": [
    "plt.hist(df_clean['Customer_Age'], density=True, cumulative=True,edgecolor = 'blue', bins=33)\n",
    "plt.ylabel('Probability')\n",
    "plt.xlabel('Customer_Age (Year old)')"
   ]
  },
  {
   "cell_type": "code",
   "execution_count": null,
   "metadata": {},
   "outputs": [],
   "source": [
    "plot = plt.hist(df_clean['Total_Trans_Ct'],density=True, cumulative=True,edgecolor = 'blue', bins=94)\n",
    "plt.ylabel('Probability')\n",
    "plt.xlabel('Total_Trans_Ct (Count)')"
   ]
  },
  {
   "cell_type": "markdown",
   "metadata": {},
   "source": [
    "## Continue"
   ]
  },
  {
   "cell_type": "code",
   "execution_count": null,
   "metadata": {},
   "outputs": [],
   "source": [
    "# getting data of the histogram\n",
    "count, bins_count = np.histogram(df_clean['Total_Trans_Amt'].to_numpy() , bins=100)\n",
    "pdf = count / sum(count)\n",
    "  \n",
    "# using numpy np.cumsum to calculate the CDF\n",
    "# We can also find using the PDF values by looping and adding\n",
    "cdf = np.cumsum(pdf)\n",
    "  \n",
    "# plotting PDF and CDF\n",
    "plt.plot(bins_count[1:], cdf, label=\"CDF\")\n",
    "plt.legend()\n",
    "plt.ylabel('Probability')\n",
    "plt.xlabel('Total_Trans_Amt (USD)')"
   ]
  },
  {
   "cell_type": "markdown",
   "metadata": {},
   "source": [
    "Confidential Interval"
   ]
  },
  {
   "cell_type": "code",
   "execution_count": 4,
   "metadata": {},
   "outputs": [
    {
     "name": "stdout",
     "output_type": "stream",
     "text": [
      "46.32596030413745\n"
     ]
    }
   ],
   "source": [
    "mu = df['Customer_Age'].mean()\n",
    "print(mu)"
   ]
  }
 ],
 "metadata": {
  "interpreter": {
   "hash": "6466067c764c2694f1c40eca2655e6eecb7144d68186792bd40a1ffe2312ef24"
  },
  "kernelspec": {
   "display_name": "Python 3.8.8 ('base')",
   "language": "python",
   "name": "python3"
  },
  "language_info": {
   "codemirror_mode": {
    "name": "ipython",
    "version": 3
   },
   "file_extension": ".py",
   "mimetype": "text/x-python",
   "name": "python",
   "nbconvert_exporter": "python",
   "pygments_lexer": "ipython3",
   "version": "3.8.9"
  },
  "orig_nbformat": 4
 },
 "nbformat": 4,
 "nbformat_minor": 2
}
